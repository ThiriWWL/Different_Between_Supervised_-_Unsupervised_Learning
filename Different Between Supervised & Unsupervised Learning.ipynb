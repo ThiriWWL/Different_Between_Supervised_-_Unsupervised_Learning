{
 "cells": [
  {
   "attachments": {},
   "cell_type": "markdown",
   "id": "baf5df71-cf70-4254-b8c3-c34c514c1b86",
   "metadata": {},
   "source": [
    "<a id=\"1\"></a>\n",
    "<div style=\"font-family: Cambria; font-weight: bold; letter-spacing: 0px; color: #ffffff; font-size: 120%; text-align: center; padding: 3px; background-color: #0000ff; border-bottom: 6px solid #80ffff;\">(1)Types of Machine Learning:</div> \n",
    "\n",
    "<a id=\"1\"></a>\n",
    "<div style=\"font-family: Cambria; font-weight: bold; letter-spacing: 0px; color: #000000; font-size: 17px; text-align: center; padding: 3px; background-color: #FFC0CB; border-bottom: 3px;\">1. Supervised Learning</div>\n",
    "\n",
    "#### The algorithm is trained on labeled data to learn the relationship between inputs [features] and outputs [targets].\n",
    "\n",
    "<a id=\"1\"></a>\n",
    "<div style=\"font-family: Cambria; font-weight: bold; letter-spacing: 0px; color: #000000; font-size: 17px; text-align: left; padding: 3px; background-color: #CCCCFF; border-bottom: 3px;\">- Regression Model <br>- Predicts Numbers<br> - Infinitely many possible outputs</div>\n",
    "\n",
    "<a id=\"1\"></a>\n",
    "<div style=\"font-family: Cambria; font-weight: bold; letter-spacing: 0px; color: #000000; font-size: 17px; text-align: left; padding: 3px; background-color: #CCCCFF; border-bottom: 3px;\">- Classification Model <br>- Predicts Categories <br>- Small Number of possible outputs</div>\n",
    "\n",
    "<a id=\"1\"></a>\n",
    "<div style=\"font-family: Cambria; font-weight: bold; letter-spacing: 0px; color: #000000; font-size: 17px; text-align: center; padding: 3px; background-color: #FFC0CB; border-bottom: 3px;\">2.Unsupervised Learning</div>\n",
    "\n",
    "#### The algorithm is trained on unlabeled data to discover patterns or structure.\n",
    "\n",
    "<a id=\"1\"></a>\n",
    "<div style=\"font-family: Cambria; font-weight: bold; letter-spacing: 0px; color: #000000; font-size: 17px; text-align: left; padding: 3px; background-color: #9FE2BF; border-bottom: 3px;\">In summary, supervised learning relies on labeled data to make predictions or classifications, while unsupervised learning explores the underlying structure of unlabeled data to discover patterns or relationships.</div>\n",
    "\n",
    "<a id=\"1\"></a>\n",
    "<div style=\"font-family: Cambria; font-weight: bold; letter-spacing: 0px; color: #000000; font-size: 17px; text-align: left; padding: 3px; background-color: #9FE2BF; border-bottom: 3px;\"> In summary, supervised learning relies on labeled data and is used for tasks like classification and regression, while unsupervised learning explores unlabeled data to discover patterns and relationships and is used for tasks like clustering and dimensionality reduction.</div>\n",
    "\n",
    "></a>\n",
    "<div style=\"font-family: Cambria; font-weight: bold; letter-spacing: 0px; color: #000000; font-size: 17px; text-align: center; padding: 3px; background-color: #FFC0CB; border-bottom: 3px;\">3.Reinforcement Learning</div>\n",
    "\n",
    "#### The algorithm learns by interacting with an environment and receiving feedback."
   ]
  }
 ],
 "metadata": {
  "kernelspec": {
   "display_name": "Python 3 (ipykernel)",
   "language": "python",
   "name": "python3"
  },
  "language_info": {
   "codemirror_mode": {
    "name": "ipython",
    "version": 3
   },
   "file_extension": ".py",
   "mimetype": "text/x-python",
   "name": "python",
   "nbconvert_exporter": "python",
   "pygments_lexer": "ipython3",
   "version": "3.11.5"
  },
  "widgets": {
   "application/vnd.jupyter.widget-state+json": {
    "state": {},
    "version_major": 2,
    "version_minor": 0
   }
  }
 },
 "nbformat": 4,
 "nbformat_minor": 5
}
